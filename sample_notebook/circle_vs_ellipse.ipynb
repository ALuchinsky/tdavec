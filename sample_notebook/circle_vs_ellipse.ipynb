{
 "cells": [
  {
   "cell_type": "code",
   "execution_count": 15,
   "id": "eaa2c2e7-dc31-4bf1-9385-581ee433b7dd",
   "metadata": {},
   "outputs": [],
   "source": [
    "from tdavec.TDAvectorizer import TDAvectorizer, createEllipse\n",
    "import matplotlib.pyplot as plt\n",
    "from sklearn.linear_model import LinearRegression\n",
    "from sklearn.model_selection import train_test_split\n",
    "from sklearn.metrics import mean_squared_error\n",
    "import pandas as pd\n",
    "import numpy as np"
   ]
  },
  {
   "cell_type": "markdown",
   "id": "8c7243c2-fc07-45d4-8c66-a24f6a421b22",
   "metadata": {},
   "source": [
    "Let us create some set of squezzed ellipses:"
   ]
  },
  {
   "cell_type": "code",
   "execution_count": 16,
   "id": "81eeb659-2941-4700-a3c2-a4cd180794a4",
   "metadata": {},
   "outputs": [],
   "source": [
    "np.random.seed(42)\n",
    "epsList = np.random.uniform(low = 0, high = 1, size = 500)\n",
    "np.savetxt(\"../R/epsList.csv\", epsList)\n",
    "clouds = [createEllipse(a=1, b=eps, n=100) for eps in epsList]"
   ]
  },
  {
   "cell_type": "markdown",
   "id": "d97f255d-3aa8-4737-9bba-14cc22cd3b05",
   "metadata": {},
   "source": [
    "Here are some examples:"
   ]
  },
  {
   "cell_type": "code",
   "execution_count": null,
   "id": "5e13a4e1-fc30-44f9-aa72-587ef354b3ae",
   "metadata": {},
   "outputs": [],
   "source": [
    "for i, cl in enumerate(clouds[:4]):\n",
    "    plt.subplot(2, 2, i+1)\n",
    "    plt.plot(cl[:,0], cl[:,1], \".\")\n",
    "    plt.xlim(-1.5, 1.5); plt.ylim(-1.5, 1.5)\n",
    "    plt.title(f\"eps={np.round(epsList[i], 2)}\")\n",
    "    plt.grid()\n",
    "plt.tight_layout()"
   ]
  },
  {
   "cell_type": "code",
   "execution_count": null,
   "id": "ef697937-13fa-463f-8f92-55de8f3128a7",
   "metadata": {},
   "outputs": [],
   "source": [
    "v = TDAvectorizer()\n",
    "v.setParams({\"scale\":np.linspace(0, 2, 10)})\n",
    "v.fit(clouds)"
   ]
  },
  {
   "cell_type": "markdown",
   "id": "a57a3027-e56c-4c00-be0c-bf2b16c87361",
   "metadata": {},
   "source": [
    "Here are the examples of the generated persistence diagrams:"
   ]
  },
  {
   "cell_type": "code",
   "execution_count": null,
   "id": "d18a6ab2-b8f4-43a7-8162-12f49afa4454",
   "metadata": {},
   "outputs": [],
   "source": [
    "for i in range(4):\n",
    "    plt.subplot(2,2,i+1)\n",
    "    PD = v.diags[i]\n",
    "    for dim in range(2):\n",
    "        plt.plot(PD[dim][:,0], PD[dim][:,1], \".\")\n",
    "        plt.xlim(0, 2); plt.ylim(0, 2)\n",
    "        plt.axline( (0,0), slope = 1, linestyle = \"--\", linewidth = 0.5)\n",
    "        plt.title(f\"eps={np.round(epsList[i], 2)}\")\n",
    "plt.tight_layout()"
   ]
  },
  {
   "cell_type": "markdown",
   "id": "39c3c8f9-1aed-43b0-9d00-46c177fd4154",
   "metadata": {},
   "source": [
    "Here are some PS plots"
   ]
  },
  {
   "cell_type": "code",
   "execution_count": null,
   "id": "427ba926-c414-4a80-9f25-dacfb6c23457",
   "metadata": {},
   "outputs": [],
   "source": [
    "X = v.transform(output=\"PS\", homDim=1)\n",
    "for i, e in enumerate(epsList[:4]):\n",
    "    plt.plot(v.getParams()[\"scale\"][1:],X[i,:], label=np.round(e, 3))\n",
    "    plt.xlim(0, 2)\n",
    "plt.legend()\n"
   ]
  },
  {
   "cell_type": "markdown",
   "id": "88027c31-f71e-415f-9788-0e52ce222d58",
   "metadata": {},
   "source": [
    "Let us now check different vectorization methods"
   ]
  },
  {
   "cell_type": "markdown",
   "id": "7701ee9f-b3be-4dd8-83d6-36b2adea1d88",
   "metadata": {},
   "source": [
    "Here is a function that uses specified vectorization method to solve the regression task and guess the squese factor:"
   ]
  },
  {
   "cell_type": "code",
   "execution_count": 19,
   "id": "17b24b56-8866-4df1-823c-02e5f3865dc5",
   "metadata": {},
   "outputs": [],
   "source": [
    "v.setParams({\"scale\":np.linspace(0, 2, 30)})\n",
    "methodList = [\"VAB\", \"PS\", \"NL\", \"ECC\", \"FDA\"]\n",
    "def makeSim(method, homDim, vec = v, y=epsList):\n",
    "    X =v.transform(output=method, homDim=homDim)\n",
    "    Xtrain, Xtest, ytrain, ytest = train_test_split(X, y, train_size=0.8, random_state=42)\n",
    "    model = LinearRegression().fit(Xtrain, ytrain)\n",
    "    test_preds = model.predict(Xtest)\n",
    "    score = model.score(Xtest, ytest)\n",
    "    res = {\"method\":method, \"homDim\":homDim, \"test_preds\":test_preds, \"y_test\":ytest, \"score\":score}\n",
    "    return res"
   ]
  },
  {
   "cell_type": "markdown",
   "id": "c363f0b2-36d8-47cf-b967-b8b7716f0a8f",
   "metadata": {},
   "source": [
    "Ib the loop below we collect performace statistics for different vectorization methods:"
   ]
  },
  {
   "cell_type": "code",
   "execution_count": 20,
   "id": "db18cd25-cb2f-45f2-b4e1-64085b7d3388",
   "metadata": {},
   "outputs": [
    {
     "name": "stdout",
     "output_type": "stream",
     "text": [
      " Dimension 1:  VAB PS NL ECC FDA \n",
      " Dimension 1:  VAB PS NL ECC FDA \n"
     ]
    }
   ],
   "source": [
    "results = []\n",
    "df = pd.DataFrame()\n",
    "for homDim in [0, 1]:\n",
    "    print(f\" Dimension {dim}: \", end=\" \")\n",
    "    for method in methodList:\n",
    "        print(method, end = \" \")\n",
    "        res = makeSim(method, homDim); results.append(res)\n",
    "        df = pd.concat([df, pd.DataFrame(res)])\n",
    "    print()"
   ]
  },
  {
   "cell_type": "markdown",
   "id": "65da33d8-2e2a-4690-baf2-1cbb3446b864",
   "metadata": {},
   "source": [
    "Here is the regression scores table for different vetcorizations "
   ]
  },
  {
   "cell_type": "code",
   "execution_count": 13,
   "id": "2d17ed0a",
   "metadata": {},
   "outputs": [
    {
     "data": {
      "text/html": [
       "<div>\n",
       "<style scoped>\n",
       "    .dataframe tbody tr th:only-of-type {\n",
       "        vertical-align: middle;\n",
       "    }\n",
       "\n",
       "    .dataframe tbody tr th {\n",
       "        vertical-align: top;\n",
       "    }\n",
       "\n",
       "    .dataframe thead th {\n",
       "        text-align: right;\n",
       "    }\n",
       "</style>\n",
       "<table border=\"1\" class=\"dataframe\">\n",
       "  <thead>\n",
       "    <tr style=\"text-align: right;\">\n",
       "      <th>homDim</th>\n",
       "      <th>0</th>\n",
       "      <th>1</th>\n",
       "    </tr>\n",
       "    <tr>\n",
       "      <th>method</th>\n",
       "      <th></th>\n",
       "      <th></th>\n",
       "    </tr>\n",
       "  </thead>\n",
       "  <tbody>\n",
       "    <tr>\n",
       "      <th>ECC</th>\n",
       "      <td>0.976</td>\n",
       "      <td>0.996</td>\n",
       "    </tr>\n",
       "    <tr>\n",
       "      <th>FDA</th>\n",
       "      <td>0.983</td>\n",
       "      <td>0.985</td>\n",
       "    </tr>\n",
       "    <tr>\n",
       "      <th>NL</th>\n",
       "      <td>0.893</td>\n",
       "      <td>0.981</td>\n",
       "    </tr>\n",
       "    <tr>\n",
       "      <th>PS</th>\n",
       "      <td>0.903</td>\n",
       "      <td>0.914</td>\n",
       "    </tr>\n",
       "    <tr>\n",
       "      <th>VAB</th>\n",
       "      <td>0.976</td>\n",
       "      <td>0.986</td>\n",
       "    </tr>\n",
       "  </tbody>\n",
       "</table>\n",
       "</div>"
      ],
      "text/plain": [
       "homDim      0      1\n",
       "method              \n",
       "ECC     0.976  0.996\n",
       "FDA     0.983  0.985\n",
       "NL      0.893  0.981\n",
       "PS      0.903  0.914\n",
       "VAB     0.976  0.986"
      ]
     },
     "execution_count": 13,
     "metadata": {},
     "output_type": "execute_result"
    }
   ],
   "source": [
    "df[\"homDim\"] = df[\"homDim\"].astype(\"category\")\n",
    "df[[\"method\", \"homDim\", \"score\"]].drop_duplicates().pivot(index=\"method\", columns=\"homDim\", values=\"score\").round(3)"
   ]
  },
  {
   "cell_type": "code",
   "execution_count": 14,
   "id": "40bb49b3-48c4-4902-8a02-8252d307fb34",
   "metadata": {},
   "outputs": [
    {
     "data": {
      "text/html": [
       "<div>\n",
       "<style scoped>\n",
       "    .dataframe tbody tr th:only-of-type {\n",
       "        vertical-align: middle;\n",
       "    }\n",
       "\n",
       "    .dataframe tbody tr th {\n",
       "        vertical-align: top;\n",
       "    }\n",
       "\n",
       "    .dataframe thead th {\n",
       "        text-align: right;\n",
       "    }\n",
       "</style>\n",
       "<table border=\"1\" class=\"dataframe\">\n",
       "  <thead>\n",
       "    <tr style=\"text-align: right;\">\n",
       "      <th>homDim</th>\n",
       "      <th>0</th>\n",
       "      <th>1</th>\n",
       "    </tr>\n",
       "    <tr>\n",
       "      <th>method</th>\n",
       "      <th></th>\n",
       "      <th></th>\n",
       "    </tr>\n",
       "  </thead>\n",
       "  <tbody>\n",
       "    <tr>\n",
       "      <th>ECC</th>\n",
       "      <td>0.976</td>\n",
       "      <td>0.996</td>\n",
       "    </tr>\n",
       "    <tr>\n",
       "      <th>FDA</th>\n",
       "      <td>0.983</td>\n",
       "      <td>0.985</td>\n",
       "    </tr>\n",
       "    <tr>\n",
       "      <th>NL</th>\n",
       "      <td>0.893</td>\n",
       "      <td>0.981</td>\n",
       "    </tr>\n",
       "    <tr>\n",
       "      <th>PS</th>\n",
       "      <td>0.903</td>\n",
       "      <td>0.914</td>\n",
       "    </tr>\n",
       "    <tr>\n",
       "      <th>VAB</th>\n",
       "      <td>0.976</td>\n",
       "      <td>0.986</td>\n",
       "    </tr>\n",
       "  </tbody>\n",
       "</table>\n",
       "</div>"
      ],
      "text/plain": [
       "homDim      0      1\n",
       "method              \n",
       "ECC     0.976  0.996\n",
       "FDA     0.983  0.985\n",
       "NL      0.893  0.981\n",
       "PS      0.903  0.914\n",
       "VAB     0.976  0.986"
      ]
     },
     "execution_count": 14,
     "metadata": {},
     "output_type": "execute_result"
    }
   ],
   "source": [
    "results = []\n",
    "df = pd.DataFrame()\n",
    "for homDim in [0, 1]:\n",
    "    for method in methodList:\n",
    "        res = makeSim(method, homDim); results.append(res)\n",
    "        df = pd.concat([df, pd.DataFrame(res)])\n",
    "df[\"homDim\"] = df[\"homDim\"].astype(\"category\")\n",
    "df[[\"method\", \"homDim\", \"score\"]].drop_duplicates().\\\n",
    "    pivot(index=\"method\", columns=\"homDim\", values=\"score\").\\\n",
    "    round(3)"
   ]
  },
  {
   "cell_type": "markdown",
   "id": "20826fbf-43f6-4ab7-9841-2778385645f0",
   "metadata": {},
   "source": [
    "As you can see, they are very close to 1, so fits are pretty accurate"
   ]
  },
  {
   "cell_type": "markdown",
   "id": "7af073ca-5311-48fd-8701-c3a3bbf8a4a1",
   "metadata": {},
   "source": [
    "The same can be easily seen from presented below scatter plots whrere for each dimension and method true and predicted values if the ellipse squese factor are shown on horizontal and vertical axes."
   ]
  },
  {
   "cell_type": "code",
   "execution_count": 13,
   "id": "2fc54ae0-ae3f-4ec7-8176-494615348e86",
   "metadata": {},
   "outputs": [
    {
     "data": {
      "image/png": "[encoded data removed]",
      "text/plain": [
       "<Figure size 640x480 with 10 Axes>"
      ]
     },
     "metadata": {},
     "output_type": "display_data"
    }
   ],
   "source": [
    "for i, r in enumerate(results):\n",
    "    plt.subplot(2, 5, i+1)\n",
    "    plt.plot(r[\"test_preds\"], r[\"y_test\"], \"r.\")\n",
    "    plt.axline( (0,0), slope=1, linestyle = \"--\")\n",
    "    plt.title(\" {}_{}\".format(r[\"method\"], r[\"homDim\"]))\n",
    "plt.tight_layout()"
   ]
  },
  {
   "cell_type": "code",
   "execution_count": null,
   "id": "9a8df20f-2c16-441a-b913-96e10e8a99c6",
   "metadata": {},
   "outputs": [],
   "source": []
  }
 ],
 "metadata": {
  "kernelspec": {
   "display_name": "Python 3 (ipykernel)",
   "language": "python",
   "name": "python3"
  },
  "language_info": {
   "codemirror_mode": {
    "name": "ipython",
    "version": 3
   },
   "file_extension": ".py",
   "mimetype": "text/x-python",
   "name": "python",
   "nbconvert_exporter": "python",
   "pygments_lexer": "ipython3",
   "version": "3.11.5"
  }
 },
 "nbformat": 4,
 "nbformat_minor": 5
}
