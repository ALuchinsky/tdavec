{
 "cells": [
  {
   "cell_type": "code",
   "execution_count": 41,
   "id": "fac4778f-5990-4b0b-aa27-01b456a6ebab",
   "metadata": {},
   "outputs": [
    {
     "name": "stdout",
     "output_type": "stream",
     "text": [
      "/Users/luchinsky/Work/STUDY/Thesis/tdavec_library/tdavec_python/env/bin/python\n"
     ]
    }
   ],
   "source": [
    "!which python"
   ]
  },
  {
   "cell_type": "code",
   "execution_count": 1,
   "id": "926eb47c-fbcd-4e03-8261-c237bd482a1d",
   "metadata": {},
   "outputs": [
    {
     "name": "stdout",
     "output_type": "stream",
     "text": [
      "Hello from tdavec\n"
     ]
    }
   ],
   "source": [
    "from tdavec import createEllipse, TDAvectorizer, tdavec_core\n",
    "import matplotlib.pyplot as plt\n",
    "import numpy as np\n",
    "import pandas as pd"
   ]
  },
  {
   "cell_type": "code",
   "execution_count": 2,
   "id": "8cee379f-6d91-45eb-94fd-d6da9a16143c",
   "metadata": {},
   "outputs": [
    {
     "data": {
      "image/png": "[encoded data removed]",
      "text/plain": [
       "<Figure size 640x480 with 1 Axes>"
      ]
     },
     "metadata": {},
     "output_type": "display_data"
    }
   ],
   "source": [
    "X = pd.read_csv(\"../tdavec/unitCircle.csv\").to_numpy()\n",
    "plt.plot(X[:,0], X[:,1], \".\")\n",
    "plt.show()"
   ]
  },
  {
   "cell_type": "code",
   "execution_count": 3,
   "id": "17e427c8-47b9-4f21-9fff-8d303f300a94",
   "metadata": {},
   "outputs": [],
   "source": [
    "v = TDAvectorizer()\n",
    "v.fit([X])\n",
    "PD = v.diags[0]\n",
    "# PD[0] = np.vstack([PD[0], [0,2]])"
   ]
  },
  {
   "cell_type": "code",
   "execution_count": 4,
   "id": "80ea8491-1d5f-46da-8bfd-10a610cecf8b",
   "metadata": {},
   "outputs": [],
   "source": [
    "def lists_are_equal(nums1, nums2, atol=1e-6):\n",
    "    return np.allclose(nums1, nums2, atol=atol)\n"
   ]
  },
  {
   "cell_type": "markdown",
   "id": "4242ff11-6ed8-4a72-8686-ce94d2a389e8",
   "metadata": {},
   "source": [
    "## Comparing presistentce"
   ]
  },
  {
   "cell_type": "code",
   "execution_count": 46,
   "id": "a22d9ab0-e120-4b28-a1be-c7895efdf4c6",
   "metadata": {},
   "outputs": [
    {
     "data": {
      "text/plain": [
       "True"
      ]
     },
     "execution_count": 46,
     "metadata": {},
     "output_type": "execute_result"
    }
   ],
   "source": [
    "scaleSeq = np.linspace(0, 2, 11)\n",
    "PL_0 = tdavec_core.computePersistenceLandscape(PD, homDim=0, scaleSeq=scaleSeq)\n",
    "R = np.array([\n",
    " 0, 0.2, 0.4, 0.6, 0.8, 1, 0.8, 0.6, 0.4, 0.2, 0 \n",
    "])\n",
    "lists_are_equal(PL_0, R)"
   ]
  },
  {
   "cell_type": "markdown",
   "id": "6351d1a4-c7af-4f4c-ac72-af22b983f719",
   "metadata": {},
   "source": [
    "## computeStats"
   ]
  },
  {
   "cell_type": "code",
   "execution_count": 29,
   "id": "a2e5a0d5-2cff-4d28-9b84-b11daabca066",
   "metadata": {},
   "outputs": [
    {
     "name": "stdout",
     "output_type": "stream",
     "text": [
      "[R] = 38, [python_=38\n"
     ]
    },
    {
     "data": {
      "text/plain": [
       "True"
      ]
     },
     "execution_count": 29,
     "metadata": {},
     "output_type": "execute_result"
    }
   ],
   "source": [
    "python = tdavec_core.computeStats(PD, 0)\n",
    "python_ = np.array(list(python.values()))\n",
    "R = np.array([\n",
    " 0, 0, 0, 0, 0, 0, 0, 0, 0, 0.16248263120126, 0.200405579272617, 0.128677543119415, 0.101342578312333, 1.97958915964958, 0.0558823641308021, 0.0927648248476049, 0.194107403159938, 0.254139908573134, 0.08124131560063, 0.100202789636309, 0.0643387715597074, 0.0506712891561665, 0.989794579824788, 0.027941182065401, 0.0463824124238025, 0.0970537015799689, 0.127069954286567, 0.16248263120126, 0.200405579272617, 0.128677543119415, 0.101342578312333, 1.97958915964958, 0.0558823641308021, 0.0927648248476049, 0.194107403159938, 0.254139908573134, 100, 6.17561341836067 \n",
    "])\n",
    "print(f\"[R] = {len(R)}, [python_={len(python_)}\")\n",
    "\n",
    "lists_are_equal(python_, R, atol=1e-2)"
   ]
  },
  {
   "cell_type": "code",
   "execution_count": 33,
   "id": "42493666-92a5-4efc-910a-30952bf6ac18",
   "metadata": {},
   "outputs": [
    {
     "name": "stdout",
     "output_type": "stream",
     "text": [
      "[R] = 38, [python_=38\n"
     ]
    },
    {
     "data": {
      "text/plain": [
       "False"
      ]
     },
     "execution_count": 33,
     "metadata": {},
     "output_type": "execute_result"
    }
   ],
   "source": [
    "python = tdavec_core.computeStats(PD, 1)\n",
    "python_ = np.array(list(python.values()))\n",
    "R = np.array([\n",
    " 0.293132394867891, 0.0850074464279819, 0.284394883135768, 0.0960806397014151, 0.299475758370877, 0.177939739281458, 0.243058614290154, 0.339139253991569, 0.416317366530457, 0.385940496272333, 0.274479552229507, 0.318265198439214, 0.0858363430062821, 1.08001988780266, 0.219598212239333, 0.274776307571496, 0.360612650577778, 0.621524153485136, 0.339536445570112, 0.166753538148609, 0.300849142069845, 0.0989110953405682, 0.671168066985808, 0.205614756755523, 0.251229324745392, 0.35014042008596, 0.530068613668374, 0.0928081014044422, 0.232171512335849, 0.0243028776000064, 0.0419179560542314, 0.858642745724079, 0.00454985253744056, 0.00704404031930657, 0.048961996373538, 0.247699551273886, 13, 1.7286342654852 \n",
    "])\n",
    "print(f\"[R] = {len(R)}, [python_={len(python_)}\")\n",
    "\n",
    "lists_are_equal(python_, R, atol=1e-2)"
   ]
  },
  {
   "cell_type": "code",
   "execution_count": 34,
   "id": "a80fe01b-05bb-4e9d-8121-be9f64983c17",
   "metadata": {},
   "outputs": [
    {
     "data": {
      "text/plain": [
       "array([1.00000001, 1.00000001, 1.00000002, 0.85106559, 1.        ,\n",
       "       1.06331089, 1.05507836, 0.99728005, 0.94997164, 1.00000001,\n",
       "       0.99999997, 1.        , 0.77878133, 0.99999998, 1.06278517,\n",
       "       1.02019402, 0.96273075, 0.72059648, 1.00000001, 0.99999999,\n",
       "       0.99999999, 0.88212421, 0.99999999, 1.06339333, 1.0241155 ,\n",
       "       0.98400441, 0.82186976, 1.        , 0.99999995, 1.0000003 ,\n",
       "       0.83818711, 0.99999998, 1.17707923, 1.06301957, 0.87053319,\n",
       "       0.36023476, 1.        , 1.00000007])"
      ]
     },
     "execution_count": 34,
     "metadata": {},
     "output_type": "execute_result"
    }
   ],
   "source": [
    "python_/R"
   ]
  },
  {
   "cell_type": "markdown",
   "id": "bd76f661-1de7-4d47-aaa4-7a0032624d7d",
   "metadata": {},
   "source": [
    "## ComplexPolymomial"
   ]
  },
  {
   "cell_type": "code",
   "execution_count": 47,
   "id": "d750fa01-a420-45d7-909a-3ee5b57234ca",
   "metadata": {},
   "outputs": [
    {
     "data": {
      "text/plain": [
       "True"
      ]
     },
     "execution_count": 47,
     "metadata": {},
     "output_type": "execute_result"
    }
   ],
   "source": [
    "python = tdavec_core.computeComplexPolynomial(PD, 0)\n",
    "R = np.array([\n",
    " 0, -16.248263120126 \n",
    "])\n",
    "lists_are_equal(python, R)"
   ]
  },
  {
   "cell_type": "code",
   "execution_count": 55,
   "id": "05eb2ee3-1577-42e5-8d33-6abdfb630072",
   "metadata": {},
   "outputs": [
    {
     "data": {
      "text/plain": [
       "array([[[-3.81072117, -5.01722649]]])"
      ]
     },
     "execution_count": 55,
     "metadata": {},
     "output_type": "execute_result"
    }
   ],
   "source": [
    "v.setParams({\"output\":\"poly\"})\n",
    "v.transform(homDim=1)"
   ]
  },
  {
   "cell_type": "code",
   "execution_count": 40,
   "id": "f8cbd36f-3553-444d-9e11-582b4bffdd21",
   "metadata": {},
   "outputs": [
    {
     "data": {
      "text/plain": [
       "[]"
      ]
     },
     "execution_count": 40,
     "metadata": {},
     "output_type": "execute_result"
    }
   ],
   "source": [
    "v.diags"
   ]
  },
  {
   "cell_type": "code",
   "execution_count": 37,
   "id": "9be3bbd4-1e4a-41db-89fd-7cb01bba80f5",
   "metadata": {},
   "outputs": [
    {
     "data": {
      "text/plain": [
       "True"
      ]
     },
     "execution_count": 37,
     "metadata": {},
     "output_type": "execute_result"
    }
   ],
   "source": [
    "python = tdavec_core.computeComplexPolynomial(PD, 1)\n",
    "R = np.array([\n",
    " -3.81072113328258, -5.01722645154033 \n",
    "])\n",
    "lists_are_equal(python, R)"
   ]
  },
  {
   "cell_type": "markdown",
   "id": "521eec18-1246-40dd-a3e0-3c02392bfc17",
   "metadata": {},
   "source": [
    "## Algebra"
   ]
  },
  {
   "cell_type": "code",
   "execution_count": 57,
   "id": "4d2eb8fc-428b-4b19-a8a7-8c2468206316",
   "metadata": {},
   "outputs": [
    {
     "data": {
      "image/png": "[encoded data removed]",
      "text/plain": [
       "<Figure size 640x480 with 1 Axes>"
      ]
     },
     "metadata": {},
     "output_type": "display_data"
    }
   ],
   "source": [
    "v.setParams({\"output\":\"algebra\"})\n",
    "python = v.transform(homDim=0)[0]\n",
    "R = np.array([0,25.8803884718878,0,0.414197953470299])\n",
    "plt.plot(R, \"r.-\", label = \"R\")\n",
    "plt.plot(0.95*python, \"b.-\", label = \"python\")\n",
    "plt.title(\"dim 0\")\n",
    "plt.legend()\n",
    "plt.show()"
   ]
  },
  {
   "cell_type": "code",
   "execution_count": 58,
   "id": "e244bcb9-a7c9-4e42-a9c4-3fe52ebee93b",
   "metadata": {},
   "outputs": [
    {
     "data": {
      "image/png": "[encoded data removed]",
      "text/plain": [
       "<Figure size 640x480 with 1 Axes>"
      ]
     },
     "metadata": {},
     "output_type": "display_data"
    }
   ],
   "source": [
    "v.setParams({\"output\":\"algebra\"})\n",
    "python = v.transform(homDim=1)[0]\n",
    "R = np.array([0.438920678383275,0.333573729178711,0.0915972597177655,0.000100476536448101])\n",
    "plt.plot(R, \"r.-\", label = \"R\")\n",
    "plt.plot(0.95*python, \"b.-\", label = \"0.95*python\")\n",
    "plt.title(\"dim 1\")\n",
    "plt.legend()\n",
    "plt.show()"
   ]
  },
  {
   "cell_type": "markdown",
   "id": "758e892f-dff6-47a2-9efb-e36d64ada285",
   "metadata": {},
   "source": [
    "## computeTropicalCoordinates "
   ]
  },
  {
   "cell_type": "code",
   "execution_count": 5,
   "id": "42f08d5f-5102-4f4a-9f6d-1ee34889e394",
   "metadata": {},
   "outputs": [
    {
     "data": {
      "text/plain": [
       "array([ 2.        ,  2.3628912 ,  2.68205181,  2.98638484, 16.24826308,\n",
       "        0.        ,  0.        ])"
      ]
     },
     "execution_count": 5,
     "metadata": {},
     "output_type": "execute_result"
    }
   ],
   "source": [
    "python = tdavec_core.computeTropicalCoordinates(PD, 0)\n",
    "python"
   ]
  },
  {
   "cell_type": "code",
   "execution_count": 6,
   "id": "66368683-b26e-40f0-b021-e071ec6671ec",
   "metadata": {},
   "outputs": [
    {
     "data": {
      "text/plain": [
       "True"
      ]
     },
     "execution_count": 6,
     "metadata": {},
     "output_type": "execute_result"
    }
   ],
   "source": [
    "R = np.array([\n",
    " 2, 2.36289119595766, 2.68205181705815, 2.98638484543615, 16.248263120126, 0, 183.751736879874 \n",
    "])\n",
    "lists_are_equal(python[:-1], R[:-1])"
   ]
  },
  {
   "cell_type": "code",
   "execution_count": 7,
   "id": "c0ac7665-e1bd-4860-b773-86047476b71b",
   "metadata": {},
   "outputs": [
    {
     "data": {
      "text/plain": [
       "True"
      ]
     },
     "execution_count": 7,
     "metadata": {},
     "output_type": "execute_result"
    }
   ],
   "source": [
    "python = tdavec_core.computeTropicalCoordinates(PD, 1)\n",
    "R = np.array([\n",
    " 0.860326686071788, 0.954869453646198, 1.02284830582612, 1.0654713502642, 1.20650531825775, 0.755064096276033, 14.5381885375704 \n",
    "])\n",
    "lists_are_equal(python[:-1], R[:-1])"
   ]
  },
  {
   "cell_type": "code",
   "execution_count": null,
   "id": "f77298bb-3135-47e1-ac6b-39d93924dfa6",
   "metadata": {},
   "outputs": [],
   "source": [
    "pythib"
   ]
  },
  {
   "cell_type": "code",
   "execution_count": 78,
   "id": "78f0b3dc-56c3-48f3-a655-aa350ca3b778",
   "metadata": {},
   "outputs": [
    {
     "data": {
      "image/png": "[encoded data removed]",
      "text/plain": [
       "<Figure size 640x480 with 1 Axes>"
      ]
     },
     "metadata": {},
     "output_type": "display_data"
    }
   ],
   "source": [
    "plt.plot(python, label = \"python\")\n",
    "plt.plot(0.8*R, label = \"0.8*R\")\n",
    "# plt.ylim(0, 20)\n",
    "plt.legend()\n",
    "plt.show()"
   ]
  },
  {
   "cell_type": "code",
   "execution_count": 64,
   "id": "c2512038-2a42-472b-ab0c-b1725ea8777d",
   "metadata": {},
   "outputs": [
    {
     "name": "stderr",
     "output_type": "stream",
     "text": [
      "/var/folders/xm/m7dhzrs55vd_trclqx_r8zcr0000gn/T/ipykernel_84451/3917348062.py:1: RuntimeWarning: invalid value encountered in divide\n",
      "  python/R\n"
     ]
    },
    {
     "data": {
      "text/plain": [
       "array([ 1.,  1.,  1.,  1.,  1., nan,  0.])"
      ]
     },
     "execution_count": 64,
     "metadata": {},
     "output_type": "execute_result"
    }
   ],
   "source": [
    "python/R"
   ]
  },
  {
   "cell_type": "code",
   "execution_count": 62,
   "id": "5f84ace8-7e13-49e2-8ee1-5a1b7377b888",
   "metadata": {},
   "outputs": [
    {
     "data": {
      "text/plain": [
       "array([ 2.        ,  2.3628912 ,  2.68205181,  2.98638484, 16.24826308,\n",
       "        0.        ,  0.        ])"
      ]
     },
     "execution_count": 62,
     "metadata": {},
     "output_type": "execute_result"
    }
   ],
   "source": [
    "np.array(list(python.values()))"
   ]
  },
  {
   "cell_type": "markdown",
   "id": "31c3ade9-ab85-4412-9184-518cc4b3deb1",
   "metadata": {},
   "source": [
    "## computeTemplateFunction"
   ]
  },
  {
   "cell_type": "code",
   "execution_count": 10,
   "id": "0195300d-762d-4401-bdf2-6c99202025ed",
   "metadata": {},
   "outputs": [
    {
     "data": {
      "text/plain": [
       "True"
      ]
     },
     "execution_count": 10,
     "metadata": {},
     "output_type": "execute_result"
    }
   ],
   "source": [
    "python = tdavec_core.computeTemplateFunction(PD, homDim = 0)\n",
    "python\n",
    "R = np.array([\n",
    " 47.7068836896669, 27.5322316257831, 9.10973719256688, 0.620518170581516, 0, 0, 0, 0, 0, 0, 0, 0, 0, 0, 0, 0, 0, 0, 0.0999999999999992, 0.900000000000002 \n",
    "])\n",
    "lists_are_equal(python, R)"
   ]
  },
  {
   "cell_type": "code",
   "execution_count": 11,
   "id": "c8e9690c-1eb3-4ff5-9a91-a9ada357924c",
   "metadata": {},
   "outputs": [
    {
     "data": {
      "text/plain": [
       "True"
      ]
     },
     "execution_count": 11,
     "metadata": {},
     "output_type": "execute_result"
    }
   ],
   "source": [
    "python = tdavec_core.computeTemplateFunction(PD, homDim = 1)\n",
    "R = np.array([\n",
    " 0, 0, 0, 0, 0, 0, 0, 0, 0, 0, 0, 0, 0, 0, 0, 0, 0, 0, 0, 0, 0.468406748165331, 0, 0, 0, 0, 0, 0, 0, 0, 0, 0, 0, 0, 0, 0, 0, 0, 0, 0, 0, 1.75451666854592, 0, 0, 0, 0, 0, 0, 0, 0, 0, 0, 0, 0, 0, 0, 0, 0, 0, 0, 0, 1.13899057979361, 0, 0, 0, 0, 0, 0, 0, 0, 0, 0, 0, 0, 0, 0, 0, 0, 0, 0, 0, 0.365103088717902, 0, 0, 0, 0, 0, 0, 0.496733139282122, 0.503266860717878, 0, 0, 0, 0, 0, 0, 0, 0, 0, 0, 0, 0.0355717802395706, 0, 0, 0, 0, 0, 0, 0.0888546409007165, 0.0888546409007165, 0, 0, 0, 0, 0, 0, 0, 0, 0, 0, 0, 0, 0, 0, 0, 0, 0, 0, 0, 0, 0, 0, 0, 0, 0, 0, 0, 0, 0, 0, 0, 0, 0, 0, 0, 0, 0, 0, 0, 0, 0, 0, 0, 0, 0, 0, 0, 0, 0, 0, 0, 0, 0, 0, 0, 0, 0, 0, 0, 0, 0, 0, 0, 0, 0, 0, 0, 0, 0, 0, 0, 0, 0, 0, 0, 0, 0, 0, 0, 0, 0, 0, 0, 0, 0, 0, 0, 0, 0, 0, 0, 0, 0, 0, 0, 0, 0, 0, 0, 0, 0, 0, 0, 0, 0, 0, 0, 0, 0, 0, 0, 0, 0, 0, 0, 0, 0, 0, 0, 0, 0, 0, 0, 0, 0, 0, 0, 0, 0, 0, 0, 0, 0, 0, 0, 0, 0, 0, 0, 0, 0, 0, 0, 0, 0, 0, 0, 0, 0, 0, 0, 0, 0, 0, 0, 0, 0, 0, 0, 0, 0, 0, 0, 0, 0, 0, 0, 0, 0, 0, 0, 0, 0, 0, 0, 0, 0, 0, 0, 0, 0, 0, 0, 0, 0, 0, 0, 0, 0, 0, 0, 0, 0, 0, 0, 0, 0, 0, 0, 0, 0, 0, 0, 0, 0, 0, 0, 0, 0, 0, 0, 0, 0, 0, 0, 0, 0, 0, 0, 0, 0, 0, 0, 0, 0, 0, 0, 0, 0, 0, 0, 0, 0, 0, 0, 0, 0, 0, 0, 0, 0, 0, 0, 0, 0, 0, 0, 0, 0, 0, 0, 0, 0, 0, 0, 0, 0, 0, 0, 0, 0, 0, 0, 0, 0, 0, 0, 0, 0, 0, 0, 0, 0, 0, 0, 0, 0, 0, 0, 0, 0, 0, 0, 0, 0, 0, 0, 0, 0, 0, 0, 0, 0, 0, 0, 0, 0, 0, 0, 0, 0, 0, 0, 0, 0, 0, 0, 0, 0, 0, 0 \n",
    "])\n",
    "lists_are_equal(python, R)"
   ]
  },
  {
   "cell_type": "code",
   "execution_count": null,
   "id": "c3683b29-59dc-4cdc-9fea-9e13b8e241c7",
   "metadata": {},
   "outputs": [],
   "source": []
  }
 ],
 "metadata": {
  "kernelspec": {
   "display_name": "Python 3 (ipykernel)",
   "language": "python",
   "name": "python3"
  },
  "language_info": {
   "codemirror_mode": {
    "name": "ipython",
    "version": 3
   },
   "file_extension": ".py",
   "mimetype": "text/x-python",
   "name": "python",
   "nbconvert_exporter": "python",
   "pygments_lexer": "ipython3",
   "version": "3.12.7"
  }
 },
 "nbformat": 4,
 "nbformat_minor": 5
}
